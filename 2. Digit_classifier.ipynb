{
 "cells": [
  {
   "cell_type": "markdown",
   "metadata": {
    "colab_type": "text",
    "id": "I9aRYU6tYcHK"
   },
   "source": [
    "# Machine Learning Workshop Practice : Part II\n",
    "\n",
    "This part will show you how to:\n",
    "1. build your model using keras \n",
    "1. optimize your model using keras \n",
    "1. explore a famous classification application: handwritten digit recognition."
   ]
  },
  {
   "cell_type": "markdown",
   "metadata": {
    "colab_type": "text",
    "id": "zAhYbQ-wYcHN"
   },
   "source": [
    "## Packages\n",
    " \n",
    "- [tensorflow](https://www.tensorflow.org) an open source platform developped by Google that has efficient computation structures (**we use 2.X version**).\n",
    "- [keras](https://keras.io/) is a high-level neural networks API that can run on different backends such as Tensorflow.\n",
    "- [numpy](http://www.numpy.org) is a fundamental package for scientific calculations.\n",
    "- [matplotlib](http://matplotlib.org) is a library for plotting graphs in Python.\n",
    "- [pickle](https://docs.python.org/3/library/pickle.html) is a library for serializing and de-serializing of Python objects.\n",
    "- [skimage](https://scikit-image.org) is a collection of algorithms for image processing."
   ]
  },
  {
   "cell_type": "code",
   "execution_count": 6,
   "metadata": {
    "colab": {},
    "colab_type": "code",
    "id": "ZCRzcNTBabzw"
   },
   "outputs": [],
   "source": [
    "import tensorflow as tf\n",
    "import numpy as np\n",
    "import matplotlib.pyplot as plt\n",
    "import pickle\n",
    "\n",
    "import keras\n",
    "from keras.datasets import mnist\n",
    "from keras.layers import Dense, Flatten\n",
    "from keras.layers import Conv2D, MaxPooling2D\n",
    "from keras.models import Sequential, load_model\n",
    "from keras.utils import to_categorical\n",
    "from skimage import data, color\n",
    "from skimage.transform import resize\n",
    "from skimage import io"
   ]
  },
  {
   "cell_type": "code",
   "execution_count": 2,
   "metadata": {
    "colab": {},
    "colab_type": "code",
    "id": "4uOGtGqmcL63"
   },
   "outputs": [],
   "source": [
    "# Define variables\n",
    "NUM_CLASSES = 10  # number of outputs (they are digits!)\n",
    "BATCH_SIZE = 128  # split the training data into smaller groups to fit with computer memory during training\n",
    "EPOCHS = 10       # number of training iterations (where one iteration has seen all batches)"
   ]
  },
  {
   "cell_type": "markdown",
   "metadata": {
    "colab_type": "text",
    "id": "GneN6nvVYcHR"
   },
   "source": [
    "## Discover the dataset\n",
    "\n",
    "The **[MNIST](http://yann.lecun.com/exdb/mnist/)** dataset is used in this example.\n",
    "\n",
    "The MNIST is a database of handwritten digits. It has **60,000 examples as a training set and 10,000 examples as a test set**.\n",
    "All the digits have been size-normalized and centered in a fixed-size\n",
    "Therefore there is **no need to do any preprocessing**.\n",
    "\n",
    "Since Tensorflow 2.X is used in this example we can download it with keras's helper script. "
   ]
  },
  {
   "cell_type": "code",
   "execution_count": 4,
   "metadata": {
    "colab": {},
    "colab_type": "code",
    "id": "P8OyAbooYcHS"
   },
   "outputs": [],
   "source": [
    "# load the MNIST data set, which already splits into train and test sets for us\n",
    "(x_train, y_train), (x_test, y_test) = mnist.load_data()"
   ]
  },
  {
   "cell_type": "markdown",
   "metadata": {
    "colab_type": "text",
    "id": "jYNrymbAc_c8"
   },
   "source": [
    "Each dataentry is represented as a matrix of size **(28x28)**.\n",
    "Where each element of the matrix is a brightness level of corresponding pixel.\n",
    "MNIST is a multiclass classification problem of **10 classes**."
   ]
  },
  {
   "cell_type": "code",
   "execution_count": 5,
   "metadata": {
    "colab": {
     "base_uri": "https://localhost:8080/",
     "height": 589
    },
    "colab_type": "code",
    "id": "ak2tuBI7YcHU",
    "outputId": "0889f2e8-902d-470c-9423-ee3648bd94f7"
   },
   "outputs": [
    {
     "data": {
      "image/png": "[encoded data removed]",
      "text/plain": [
       "<Figure size 720x720 with 25 Axes>"
      ]
     },
     "metadata": {},
     "output_type": "display_data"
    }
   ],
   "source": [
    "# plot 25 first training examples\n",
    "plt.figure(figsize=(10,10))\n",
    "for i in range(25):\n",
    "    plt.subplot(5,5,i+1)\n",
    "    plt.xticks([])\n",
    "    plt.yticks([])\n",
    "    plt.grid(False)\n",
    "    plt.imshow(x_train[i], cmap=plt.cm.binary)\n",
    "    plt.xlabel(y_train[i])\n",
    "plt.show();"
   ]
  },
  {
   "cell_type": "code",
   "execution_count": 5,
   "metadata": {
    "colab": {
     "base_uri": "https://localhost:8080/",
     "height": 34
    },
    "colab_type": "code",
    "id": "uNnw677_YcHb",
    "outputId": "af6a81f3-64f0-4824-cd2a-d9eb064c7121"
   },
   "outputs": [],
   "source": [
    "# reshape the data into a 4D tensor - (sample_number, x_img_size, y_img_size, num_channels)\n",
    "# because the MNIST is grayscale, we only have a single channel - RGB colour images would have 3\n",
    "x_train = np.expand_dims(x_train,-1)\n",
    "x_test = np.expand_dims(x_test,-1)\n",
    "input_shape = x_train.shape[1:]\n",
    "print(\"One Image shape: \", input_shape)"
   ]
  },
  {
   "cell_type": "markdown",
   "metadata": {
    "colab_type": "text",
    "id": "4SIOaUa9hRj5"
   },
   "source": [
    "For numerical stability let's rescale data from range (0,255) to (0,1)"
   ]
  },
  {
   "cell_type": "code",
   "execution_count": 14,
   "metadata": {
    "colab": {},
    "colab_type": "code",
    "id": "nyB2yDeYYcHd"
   },
   "outputs": [],
   "source": [
    "# rescale data range\n",
    "### START CODE HERE ###\n",
    "x_train = None\n",
    "x_test = None\n",
    "### START CODE HERE ###"
   ]
  },
  {
   "cell_type": "code",
   "execution_count": 6,
   "metadata": {
    "colab": {
     "base_uri": "https://localhost:8080/",
     "height": 68
    },
    "colab_type": "code",
    "id": "StK5wMjVhM8p",
    "outputId": "81fa75a0-9b3d-4df8-bc9f-bcf5d45d9c9b"
   },
   "outputs": [],
   "source": [
    "print(\"Total train: \", y_train.shape[0])\n",
    "print(\"Total test: \", y_test.shape[0])\n",
    "print(\"Classes: \", np.unique(y_train).shape[0])"
   ]
  },
  {
   "cell_type": "markdown",
   "metadata": {
    "colab_type": "text",
    "id": "riuAQmveYcHg"
   },
   "source": [
    "## Convolutional Neural Network"
   ]
  },
  {
   "cell_type": "markdown",
   "metadata": {
    "colab_type": "text",
    "id": "ayUvT6VwYcHh"
   },
   "source": [
    "Now let's implement a convolutional neural network (CNN) that recognizes images !\n",
    "\n",
    "Here is a CNN's type of architecture:\n",
    "![CNN Architecture](https://res.mdpi.com/information/information-07-00061/article_deploy/html/images/information-07-00061-g001.png)\n",
    "\n",
    "Check out [this tutorial]( http://adventuresinmachinelearning.com/convolutional-neural-networks-tutorial-tensorflow/)\n",
    "to learn more about the different layers."
   ]
  },
  {
   "cell_type": "markdown",
   "metadata": {
    "colab_type": "text",
    "id": "FMj0cm3sYcHi"
   },
   "source": [
    "What we want from our model is:\n",
    "- to feed in a handwritten digit image,\n",
    "- to ouput the most likely of the 10 possible labels.\n",
    "\n",
    "Recall that we are working with multiclass classification, thus we would like our model to output a discrete probability distribution over all ten classes.\n",
    "Our true labels is to be represented in a form of a target distribution where all probabilities are zero except target class (one-hot encoding).\n",
    "\n",
    "Having both of the distributions, we could calculate our loss function as the cross entropy:\n",
    "$$\n",
    "L = - \\sum_{i=1}^{N} \\sum_{j=1}^{10}p_{ij} \\log(\\hat{p}_{ij})\n",
    "$$\n",
    "\n",
    "Class prediction could be easly calculated from equation:\n",
    "$$\n",
    "\\hat{y}_i = \\mathop{argmax}\\limits_{j} \\hat{p}_{ij}\n",
    "$$"
   ]
  },
  {
   "cell_type": "markdown",
   "metadata": {
    "colab_type": "text",
    "id": "JXSXr_wfYcHj"
   },
   "source": [
    "## Define the model structure"
   ]
  },
  {
   "cell_type": "code",
   "execution_count": 7,
   "metadata": {},
   "outputs": [],
   "source": [
    "# Transform all output to one-hot-encoding\n",
    "y_train_ohe = to_categorical(y_train)\n",
    "y_test_ohe = to_categorical(y_test)"
   ]
  },
  {
   "cell_type": "code",
   "execution_count": 10,
   "metadata": {
    "colab": {
     "base_uri": "https://localhost:8080/",
     "height": 34
    },
    "colab_type": "code",
    "id": "qd40wm1yYcHj",
    "outputId": "1c356462-7257-46af-9c29-a5ef96caf877"
   },
   "outputs": [
    {
     "name": "stdout",
     "output_type": "stream",
     "text": [
      "Label :  2\n",
      "One hot encoding :  [0. 0. 1. 0. 0. 0. 0. 0. 0. 0.]\n"
     ]
    }
   ],
   "source": [
    "# see what is one hot encoding:\n",
    "i = 5\n",
    "print(\"Label : \", y_train[i])\n",
    "print(\"One hot encoding : \", y_train_ohe[i])"
   ]
  },
  {
   "cell_type": "code",
   "execution_count": 16,
   "metadata": {
    "colab": {},
    "colab_type": "code",
    "id": "BOGjX08jYcHm"
   },
   "outputs": [],
   "source": [
    "model = Sequential()\n",
    "model.add(Conv2D(32, kernel_size=(5, 5), strides=(1, 1),\n",
    "                 activation='relu',\n",
    "                 input_shape=input_shape))\n",
    "model.add(MaxPooling2D(pool_size=(2, 2), strides=(2, 2)))\n",
    "model.add(Conv2D(64, (5, 5), activation='relu'))\n",
    "model.add(MaxPooling2D(pool_size=(2, 2)))\n",
    "model.add(Flatten())\n",
    "### START CODE HERE ###\n",
    "model.add()  # add a Dense layer of size 1000 and ReLU activation\n",
    "model.add()  # add a Dense layer of size 'output_size' and softmax activation\n",
    "### END CODE HERE ###"
   ]
  },
  {
   "cell_type": "code",
   "execution_count": 18,
   "metadata": {
    "colab": {},
    "colab_type": "code",
    "id": "SxhhmCJSYcHn"
   },
   "outputs": [],
   "source": [
    "model.compile(loss=tf.keras.losses.categorical_crossentropy,\n",
    "              optimizer=tf.keras.optimizers.Adam(),\n",
    "              metrics=['accuracy'])"
   ]
  },
  {
   "cell_type": "markdown",
   "metadata": {
    "colab_type": "text",
    "id": "t7c2Pl3NoUa6"
   },
   "source": [
    "Fun fact: Even on this relatively small model we are expecting accuracy to be around 99%.  "
   ]
  },
  {
   "cell_type": "code",
   "execution_count": 19,
   "metadata": {
    "colab": {
     "base_uri": "https://localhost:8080/",
     "height": 391
    },
    "colab_type": "code",
    "id": "fbNAk5glYcHq",
    "outputId": "072bc7d9-3a88-4641-b7d4-1b52a826f6fe"
   },
   "outputs": [
    {
     "name": "stdout",
     "output_type": "stream",
     "text": [
      "Model: \"sequential\"\n",
      "_________________________________________________________________\n",
      "Layer (type)                 Output Shape              Param #   \n",
      "=================================================================\n",
      "conv2d (Conv2D)              (None, 24, 24, 32)        832       \n",
      "_________________________________________________________________\n",
      "max_pooling2d (MaxPooling2D) (None, 12, 12, 32)        0         \n",
      "_________________________________________________________________\n",
      "conv2d_1 (Conv2D)            (None, 8, 8, 64)          51264     \n",
      "_________________________________________________________________\n",
      "max_pooling2d_1 (MaxPooling2 (None, 4, 4, 64)          0         \n",
      "_________________________________________________________________\n",
      "flatten (Flatten)            (None, 1024)              0         \n",
      "_________________________________________________________________\n",
      "dense (Dense)                (None, 1000)              1025000   \n",
      "_________________________________________________________________\n",
      "dense_1 (Dense)              (None, 10)                10010     \n",
      "=================================================================\n",
      "Total params: 1,087,106\n",
      "Trainable params: 1,087,106\n",
      "Non-trainable params: 0\n",
      "_________________________________________________________________\n"
     ]
    }
   ],
   "source": [
    "model.summary()"
   ]
  },
  {
   "cell_type": "markdown",
   "metadata": {
    "colab_type": "text",
    "id": "T7FuO5hOYcHs"
   },
   "source": [
    "**Now we have determined the structure of our network, we are ready to train it !**\n",
    "\n",
    "## Model training"
   ]
  },
  {
   "cell_type": "markdown",
   "metadata": {
    "colab_type": "text",
    "id": "PY8Z_z0oYcHt"
   },
   "source": [
    "**Let's learn the models parameters:** \n",
    "\n",
    "The fit function performs:\n",
    "- forward propagation\n",
    "- cross entropy loss\n",
    "- backward propagation\n",
    "- update parameters with Adam optimization\n",
    "\n",
    "_(It may take up to 10 minutes to train...  \n",
    "We trained it for you from this code - see the epcohes below - you can simply load the saved model with: `load_model('digit_model.h5')`. Choose to uncomment and run the desired parts in the next cells below)_"
   ]
  },
  {
   "cell_type": "code",
   "execution_count": 0,
   "metadata": {
    "colab": {},
    "colab_type": "code",
    "id": "Vl4uWW_qYcHt"
   },
   "outputs": [],
   "source": [
    "# history = model.fit(x_train, y_train_ohe,\n",
    "#           batch_size=BATCH_SIZE,\n",
    "#           epochs=EPOCHS,\n",
    "#           verbose=1,\n",
    "#           validation_data=(x_test, y_test_ohe))"
   ]
  },
  {
   "cell_type": "code",
   "execution_count": 0,
   "metadata": {
    "colab": {},
    "colab_type": "code",
    "id": "k0vWf5wyYcHv"
   },
   "outputs": [],
   "source": [
    "# #save model and history\n",
    "\n",
    "# model.save('digit_model.h5')  # creates a HDF5 file 'digit_model.h5'\n",
    "\n",
    "# with open('history.pkl', 'wb') as fp:\n",
    "#     pickle.dump(history, fp)"
   ]
  },
  {
   "cell_type": "code",
   "execution_count": 11,
   "metadata": {
    "colab": {},
    "colab_type": "code",
    "id": "ov4i9osUYcHx"
   },
   "outputs": [],
   "source": [
    "# # load model and history\n",
    "\n",
    "# model = load_model('digit_model.h5') # returns the trained model\n",
    "\n",
    "# with open('history.pkl', 'rb') as fp:\n",
    "#     history = pickle.load(fp)"
   ]
  },
  {
   "cell_type": "markdown",
   "metadata": {
    "colab_type": "text",
    "id": "0-ynRlcbYcHz"
   },
   "source": [
    "## Model evaluation"
   ]
  },
  {
   "cell_type": "code",
   "execution_count": 17,
   "metadata": {
    "colab": {
     "base_uri": "https://localhost:8080/",
     "height": 51
    },
    "colab_type": "code",
    "id": "t6S-7EKlYcH0",
    "outputId": "aa87d2f0-881f-4330-8fd4-dc52d457a8b0"
   },
   "outputs": [],
   "source": [
    "score = model.evaluate(x_test, y_test_ohe, verbose=0)\n",
    "print('Test loss:', score[0])\n",
    "print('Test accuracy:', score[1])"
   ]
  },
  {
   "cell_type": "code",
   "execution_count": 18,
   "metadata": {
    "colab": {},
    "colab_type": "code",
    "id": "HpxuSRMWYcH2",
    "outputId": "965b6bec-0f93-4823-f839-e4594e95ea7d"
   },
   "outputs": [],
   "source": [
    "# Plot training & validation accuracy values\n",
    "plt.plot(history.history['accuracy'])\n",
    "plt.plot(history.history['val_accuracy'])\n",
    "plt.title('Model accuracy')\n",
    "plt.ylabel('Accuracy')\n",
    "plt.xlabel('Epoch')\n",
    "plt.legend(['Train', 'Test'], loc='upper left')\n",
    "plt.show()\n",
    "\n",
    "# Plot training & validation loss values\n",
    "plt.plot(history.history['loss'])\n",
    "plt.plot(history.history['val_loss'])\n",
    "plt.title('Model loss')\n",
    "plt.ylabel('Loss')\n",
    "plt.xlabel('Epoch')\n",
    "plt.legend(['Train', 'Test'], loc='upper left')\n",
    "plt.show()"
   ]
  },
  {
   "cell_type": "markdown",
   "metadata": {
    "colab_type": "text",
    "id": "G79Uy5ylYcH5"
   },
   "source": [
    "## Model prediction"
   ]
  },
  {
   "cell_type": "code",
   "execution_count": 23,
   "metadata": {
    "colab": {},
    "colab_type": "code",
    "id": "ihp0Otp8YcH5"
   },
   "outputs": [],
   "source": [
    "# predict all test dataset\n",
    "prediction = model.predict(x_test)"
   ]
  },
  {
   "cell_type": "code",
   "execution_count": 19,
   "metadata": {
    "colab": {},
    "colab_type": "code",
    "id": "tw65iq18YcH7",
    "outputId": "ce7313f0-e300-457b-ac4b-58abed0d8d7d",
    "scrolled": true
   },
   "outputs": [],
   "source": [
    "# plot some of these predictions\n",
    "i = 55\n",
    "plt.xticks([])\n",
    "plt.yticks([])\n",
    "plt.grid(False)\n",
    "plt.imshow(x_test[i].reshape((x_test[i].shape[0],x_test[i].shape[1])), cmap=plt.cm.binary)\n",
    "print(\"output: \", prediction[i])\n",
    "print(\"predicted label: \", np.argmax(prediction[i]))"
   ]
  },
  {
   "cell_type": "code",
   "execution_count": 20,
   "metadata": {
    "colab": {},
    "colab_type": "code",
    "id": "1d4uWSw-YcH_",
    "outputId": "7636c060-f7cb-49fd-971c-5f2593c04b20"
   },
   "outputs": [],
   "source": [
    "# How to predict a single image:\n",
    "i = 11\n",
    "\n",
    "plt.xticks([])\n",
    "plt.yticks([])\n",
    "plt.grid(False)\n",
    "plt.imshow(x_test[i].reshape((x_test[i].shape[0],x_test[i].shape[1])), cmap=plt.cm.binary)\n",
    "\n",
    "# prediction: \n",
    "# Because the model has been trained on batches, the size was extended to take a batch index\n",
    "# we need to reshape the input size to fit with the learned structure\n",
    "\n",
    "new_x = np.expand_dims(x_test[i], axis=0)\n",
    "pred = model.predict_classes(new_x)\n",
    "print(\"Predicted label: \", int(pred))"
   ]
  },
  {
   "cell_type": "markdown",
   "metadata": {
    "colab_type": "text",
    "id": "xGLfpnJ5YcIF"
   },
   "source": [
    "## Try your own image !!\n",
    "\n",
    "Your task, should you choose to accept it, is to create your own  handwritten digit example.\n",
    "We suggest to use standard image redactors for the task (Paint for Windows; GIMP for Unix)\n",
    "\n",
    "Instructions:\n",
    "1. create a square image (recall that we use img dimensions of 28*28 so keep a low resolution for consistency)\n",
    "1. use painting tools for writing a digit\n",
    "1. save your image to img_digit folder in this workspace\n",
    "1. change IMG_PATH constant in the following cell to a path to your image\n",
    "\n",
    "For the demonstration purpose we created such an image.\n",
    "\n",
    "Own image (of size 200*200px):\n",
    "<img src=\"img_digit/own_image.png\" style=\"width:100px;height:100px;\">"
   ]
  },
  {
   "cell_type": "code",
   "execution_count": 34,
   "metadata": {
    "colab": {},
    "colab_type": "code",
    "id": "LC5DGYhAm4LF"
   },
   "outputs": [],
   "source": [
    "# make a new prediction\n",
    "IMG_PATH = \"img_digit/own_image.png\"  # change to your image path"
   ]
  },
  {
   "cell_type": "code",
   "execution_count": 31,
   "metadata": {
    "colab": {},
    "colab_type": "code",
    "id": "XPDaZLbGYcIH",
    "outputId": "03b170d9-ca0f-4d58-e1c9-c29ace80f6cb"
   },
   "outputs": [
    {
     "data": {
      "text/plain": [
       "<matplotlib.image.AxesImage at 0x245a4894bc8>"
      ]
     },
     "execution_count": 31,
     "metadata": {},
     "output_type": "execute_result"
    },
    {
     "data": {
      "image/png": "[encoded data removed]",
      "text/plain": [
       "<Figure size 432x288 with 1 Axes>"
      ]
     },
     "metadata": {},
     "output_type": "display_data"
    }
   ],
   "source": [
    "new_img = 1 - color.rgb2gray(io.imread(IMG_PATH))\n",
    "# resize image to fit the model\n",
    "new_img = resize(new_img, (x_test[i].shape[0],x_test[i].shape[1]), anti_aliasing=True)\n",
    "\n",
    "plt.xticks([])\n",
    "plt.yticks([])\n",
    "plt.grid(False)\n",
    "plt.imshow(new_img, cmap=plt.cm.binary)"
   ]
  },
  {
   "cell_type": "code",
   "execution_count": 32,
   "metadata": {
    "colab": {},
    "colab_type": "code",
    "id": "wQEnKSYaYcIK",
    "outputId": "f7b27ef6-7fe3-463e-fc9d-49d13b1bfabf"
   },
   "outputs": [
    {
     "name": "stdout",
     "output_type": "stream",
     "text": [
      "Predicted label:  2\n"
     ]
    }
   ],
   "source": [
    "# prediction: \n",
    "# Because the model has been trained on batches, the size was extended to take a batch index\n",
    "# we need to reshape the input size to fit with the learned structure\n",
    "new_x = np.expand_dims(new_img, axis=0)\n",
    "new_x = np.expand_dims(new_x, axis=3)\n",
    "\n",
    "pred = model.predict_classes(new_x)\n",
    "print(\"Predicted label: \", int(pred))"
   ]
  },
  {
   "cell_type": "markdown",
   "metadata": {
    "colab_type": "text",
    "id": "v9MuDNnzYcIN"
   },
   "source": [
    "**Congratulations in finishing this notebook, this is    THE END OF PART II**\n"
   ]
  },
  {
   "cell_type": "markdown",
   "metadata": {
    "colab": {},
    "colab_type": "code",
    "id": "_W5Y6dzLbDXz"
   },
   "source": [
    "Tutotial reference: http://adventuresinmachinelearning.com/keras-tutorial-cnn-11-lines/"
   ]
  }
 ],
 "metadata": {
  "colab": {
   "collapsed_sections": [],
   "name": "Digit_classifier.ipynb",
   "provenance": [],
   "toc_visible": true
  },
  "kernelspec": {
   "display_name": "venv",
   "language": "python",
   "name": "venv"
  },
  "language_info": {
   "codemirror_mode": {
    "name": "ipython",
    "version": 3
   },
   "file_extension": ".py",
   "mimetype": "text/x-python",
   "name": "python",
   "nbconvert_exporter": "python",
   "pygments_lexer": "ipython3",
   "version": "3.7.4"
  }
 },
 "nbformat": 4,
 "nbformat_minor": 1
}
