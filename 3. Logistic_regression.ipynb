{
  "nbformat": 4,
  "nbformat_minor": 0,
  "metadata": {
    "colab": {
      "name": "3. Logistic_regression.ipynb",
      "provenance": [],
      "collapsed_sections": [],
      "toc_visible": true
    },
    "kernelspec": {
      "display_name": "venv",
      "language": "python",
      "name": "venv"
    },
    "language_info": {
      "codemirror_mode": {
        "name": "ipython",
        "version": 3
      },
      "file_extension": ".py",
      "mimetype": "text/x-python",
      "name": "python",
      "nbconvert_exporter": "python",
      "pygments_lexer": "ipython3",
      "version": "3.7.4"
    }
  },
  "cells": [
    {
      "cell_type": "markdown",
      "metadata": {
        "colab_type": "text",
        "id": "yr9rVwpb75_C"
      },
      "source": [
        "# Machine Learning Workshop Practice : Part III\n",
        "\n",
        "This part will show you how to:\n",
        "1. implement Logistic Regression model without keras\n",
        "1. optimize your model without keras"
      ]
    },
    {
      "cell_type": "markdown",
      "metadata": {
        "colab_type": "text",
        "id": "ukwHx9uG9FON"
      },
      "source": [
        "## Packages \n",
        "\n",
        "- [tensorflow](https://www.tensorflow.org) is a fundamental package for automatic differentiation (**still 2.X version**). \n",
        "- [numpy](http://www.numpy.org) is a package for fast math calculations.\n",
        "- [sklearn](http://scikit-learn.org/stable/) provides metrics for performance measuring. \n",
        "- [matplotlib](http://matplotlib.org) is a library for plotting graphs in Python."
      ]
    },
    {
      "cell_type": "code",
      "metadata": {
        "colab_type": "code",
        "id": "sbMn0Y4aOQQO",
        "colab": {}
      },
      "source": [
        "import tensorflow as tf\n",
        "import numpy as np\n",
        "from sklearn.metrics import roc_curve, roc_auc_score, classification_report, accuracy_score, confusion_matrix \n",
        "import matplotlib.pyplot as pyplot"
      ],
      "execution_count": 0,
      "outputs": []
    },
    {
      "cell_type": "code",
      "metadata": {
        "colab_type": "code",
        "id": "XbJVNydNRIdH",
        "colab": {}
      },
      "source": [
        "SEED = 42\n",
        "LEARNING_RATE = 0.005\n",
        "LEARNING_RATE_DECAY = 0.95    # after each epoch learning rate will be exponentially decreased with this factor \n",
        "BATCH_SIZE = 1200\n",
        "EPOCH = 45                    # total number of epochs\n",
        "SHUFFLE_BEFORE_EPOCH = True   # if true then, before each epoch we are shuffling all data entries in the random order"
      ],
      "execution_count": 0,
      "outputs": []
    },
    {
      "cell_type": "markdown",
      "metadata": {
        "colab_type": "text",
        "id": "bwx1G7VzHswk"
      },
      "source": [
        "## Dataset\n",
        "\n",
        "In this section:\n",
        "1. Loading dataset\n",
        "1. Observing data\n",
        "1. Flatting matrix to vectors\n",
        "1. Binarizing labels"
      ]
    },
    {
      "cell_type": "markdown",
      "metadata": {
        "colab_type": "text",
        "id": "CO63Hh3j_qCJ"
      },
      "source": [
        "The **[MNIST](http://yann.lecun.com/exdb/mnist/)** dataset is used in this example.\n",
        "\n",
        "The MNIST is still a database of handwritten digits. It has **60,000 examples as a training set and 10,000 examples as a test set**.\n",
        "All the digits have been size-normalized and centered in a fixed-size\n",
        "Therefore there is **no need to do any preprocessing**."
      ]
    },
    {
      "cell_type": "code",
      "metadata": {
        "colab_type": "code",
        "id": "yVPbjLAmRBHA",
        "colab": {}
      },
      "source": [
        "(X_train,y_train),(X_test,y_test) = tf.keras.datasets.mnist.load_data()"
      ],
      "execution_count": 0,
      "outputs": []
    },
    {
      "cell_type": "markdown",
      "metadata": {
        "colab_type": "text",
        "id": "0DR2Obs5Jkv5"
      },
      "source": [
        "Let's look at the data closely.\n"
      ]
    },
    {
      "cell_type": "code",
      "metadata": {
        "colab_type": "code",
        "id": "fVCz5TwiHsww",
        "outputId": "fb5d9f8b-9055-441e-fcb3-85fdfb9e7bf8",
        "colab": {
          "base_uri": "https://localhost:8080/",
          "height": 209
        }
      },
      "source": [
        "print(\"Image shape: \", X_train.shape[1:])\n",
        "print(\"Number of classes: \", np.unique(y_train).shape[0])\n",
        "\n",
        "img = np.concatenate([X_train[101], X_train[204], X_train[507]],axis=1)\n",
        "\n",
        "pyplot.title(\"Three mnist examples\")\n",
        "pyplot.axvline(x=28)\n",
        "pyplot.axvline(x=28*2)\n",
        "pyplot.imshow(img, cmap=pyplot.cm.binary);"
      ],
      "execution_count": 5,
      "outputs": [
        {
          "output_type": "stream",
          "text": [
            "Image shape:  (28, 28)\n",
            "Number of classes:  10\n"
          ],
          "name": "stdout"
        },
        {
          "output_type": "display_data",
          "data": {
            "image/png": "[encoded data removed]",
            "text/plain": [
              "<Figure size 432x288 with 1 Axes>"
            ]
          },
          "metadata": {
            "tags": []
          }
        }
      ]
    },
    {
      "cell_type": "markdown",
      "metadata": {
        "colab_type": "text",
        "id": "5gfR91tOHsw0"
      },
      "source": [
        "Each dataentry is a matrix of size **(28x28)** that contain brightness level of corresponding pixels.\n",
        "Because each dataentry is essentially a digit, thus we have **10 classes** classification problem.\n",
        "\n",
        "\n",
        "Unfortunately, Logistic Regression is not very suitable model for matrix input and multiclass classification. Let's have a fast fix for our problem."
      ]
    },
    {
      "cell_type": "markdown",
      "metadata": {
        "colab_type": "text",
        "id": "MwmnTJL-HOpx"
      },
      "source": [
        "First of all, we are going to replace matrixes with vectors.\n",
        "To do that let's just perform row-wize flatting of each image from **(28, 28)** matrix to a vector of size **784**.\n",
        "\n"
      ]
    },
    {
      "cell_type": "code",
      "metadata": {
        "colab_type": "code",
        "id": "aS5ViK24U9yK",
        "colab": {}
      },
      "source": [
        "X_train = X_train.reshape((-1,28*28)).astype(np.float32)"
      ],
      "execution_count": 0,
      "outputs": []
    },
    {
      "cell_type": "markdown",
      "metadata": {
        "colab_type": "text",
        "id": "1I5ELt6jSUZF"
      },
      "source": [
        "Also for numerical stability let's again rescale data from range (0,255) to (0,1)"
      ]
    },
    {
      "cell_type": "code",
      "metadata": {
        "colab_type": "code",
        "id": "I2wWMWg1ST6N",
        "colab": {}
      },
      "source": [
        "X_train = X_train.astype(np.float32) / 255"
      ],
      "execution_count": 0,
      "outputs": []
    },
    {
      "cell_type": "markdown",
      "metadata": {
        "colab_type": "text",
        "id": "J2D_deidIR5q"
      },
      "source": [
        "To convert mnist to a binary classification problem we define the\n",
        "ratings of **{5,6,7,8,9} as positive** examples and all other ratings of **{0,1,2,3,4} as negative** ones."
      ]
    },
    {
      "cell_type": "code",
      "metadata": {
        "colab_type": "code",
        "id": "hJf3Z5TuHsxD",
        "colab": {}
      },
      "source": [
        "y_train = (y_train>=5).astype(np.float32)"
      ],
      "execution_count": 0,
      "outputs": []
    },
    {
      "cell_type": "markdown",
      "metadata": {
        "id": "dlMtUuABEOrL",
        "colab_type": "text"
      },
      "source": [
        "Please, repeat all of the preprocessing steps for test data."
      ]
    },
    {
      "cell_type": "code",
      "metadata": {
        "id": "EOTOcNUfD_jR",
        "colab_type": "code",
        "colab": {}
      },
      "source": [
        "### == START OF YOUR CODE == ###\n",
        "X_test = <YOUR CODE HERE>\n",
        "X_test = <YOUR CODE HERE>\n",
        "y_test = <YOUR CODE HERE>\n",
        "### == END OF YOUR CODE == ###"
      ],
      "execution_count": 0,
      "outputs": []
    },
    {
      "cell_type": "code",
      "metadata": {
        "colab_type": "code",
        "id": "W7O8KYs0XH90",
        "outputId": "886602f9-5ad1-4086-bef7-0db6a9f10ca2",
        "colab": {
          "base_uri": "https://localhost:8080/",
          "height": 119
        }
      },
      "source": [
        "print(\"Positive train: \", np.sum(y_train.astype(np.float32),dtype=np.int))\n",
        "print(\"Negative train: \", y_train.shape[0]-np.sum(y_train.astype(np.float32),dtype=np.int))\n",
        "print(\"Total train: \", y_train.shape[0])\n",
        "\n",
        "print(\"Positive test: \", np.sum(y_test.astype(np.float32),dtype=np.int))\n",
        "print(\"Negative test: \", y_test.shape[0]-np.sum(y_test.astype(np.float32),dtype=np.int))\n",
        "print(\"Total test: \", y_test.shape[0])"
      ],
      "execution_count": 10,
      "outputs": [
        {
          "output_type": "stream",
          "text": [
            "Positive train:  29404\n",
            "Negative train:  30596\n",
            "Total train:  60000\n",
            "Positive test:  4861\n",
            "Negative test:  5139\n",
            "Total test:  10000\n"
          ],
          "name": "stdout"
        }
      ]
    },
    {
      "cell_type": "markdown",
      "metadata": {
        "colab_type": "text",
        "id": "TKdRWEAcJJfi"
      },
      "source": [
        "## Logistic Regression model\n",
        "\n",
        "In this section:\n",
        "1. talking about model\n",
        "1. loss function\n",
        "1. optimization steps\n",
        "\n",
        "Output of the model is a probability that given example is positive:\n",
        "$$\n",
        "P(y=1|x )= p = \\sigma(logit) = \\sigma(W^Tx+b)\n",
        "$$\n",
        "\n",
        "\n",
        " "
      ]
    },
    {
      "cell_type": "code",
      "metadata": {
        "id": "5drLcEp7G5fR",
        "colab_type": "code",
        "colab": {}
      },
      "source": [
        "class LogisticRegression(object):\n",
        "    def __init__(self, weigths_init=tf.keras.initializers.glorot_normal(seed=SEED), \n",
        "                        bias_init=tf.keras.initializers.constant(0.0)):\n",
        "        self.weigths_init = weigths_init\n",
        "        self.bias_init = bias_init\n",
        "\n",
        "        self._W = None\n",
        "        self._b = None\n",
        "\n",
        "    def build(self, num_features):\n",
        "        self.num_features = num_features\n",
        "        self._W = tf.Variable(self.weigths_init([num_features,1]),trainable=True)\n",
        "        self._b = tf.Variable(self.bias_init([1]),trainable=True)\n",
        "    \n",
        "    def predict(self, input):\n",
        "        return self._predict(input).numpy()\n",
        "\n",
        "    def loss(self, input, labels):\n",
        "        assert input.shape[0] == labels.shape[0]\n",
        "        return self._loss(input, labels).numpy()\n",
        "    \n",
        "    def train_step(self, input, labels, learning_rate):\n",
        "        return self._train_step(input, labels, learning_rate).numpy()\n",
        "    \n",
        "    def __call__(self, input):\n",
        "        return self._call(input).numpy()\n",
        "    \n",
        "    def get_variables(self):\n",
        "        return [self._W, self._b]\n",
        "    \n",
        "    @tf.function\n",
        "    def _train_step(self, input, labels, learning_rate):\n",
        "        with tf.GradientTape() as t:\n",
        "            current_loss = self._loss(input, labels)\n",
        "        \n",
        "        vars = self.get_variables()\n",
        "        grads = t.gradient(current_loss, vars)\n",
        "        \n",
        "        # Stochastic Gradient Descent\n",
        "        for v,g in zip(vars,grads):\n",
        "            v.assign_sub(learning_rate * g)\n",
        "        return current_loss\n",
        "    \n",
        "    ## == Functions to define == ##\n",
        "    def _predict_logit(self, input):\n",
        "        pass\n",
        "\n",
        "    def _predict(self, input):\n",
        "        pass\n",
        "    \n",
        "    def _loss(self, input, labels):\n",
        "        pass\n",
        "    \n",
        "    def _call(self, input):\n",
        "        pass"
      ],
      "execution_count": 0,
      "outputs": []
    },
    {
      "cell_type": "markdown",
      "metadata": {
        "id": "OzArioWJIOrH",
        "colab_type": "text"
      },
      "source": [
        "Recall the formula for logits. \n",
        "It is rewritten for the \n",
        "$$\n",
        "\\mathop{logit}\\limits_{N\\text{x}1} = \\mathop{X}\\limits_{N\\text{x}F} \\mathop{W}\\limits_{F\\text{x}1}+\\mathop{b}\\limits_{1\\text{x}1}\n",
        "$$\n",
        "\n",
        "In tensorflow matrix multiplication is performed via\n",
        "```\n",
        "AB = tf.matmul(A, B)\n",
        "```\n"
      ]
    },
    {
      "cell_type": "code",
      "metadata": {
        "id": "ZjKoW9mMIUpX",
        "colab_type": "code",
        "colab": {}
      },
      "source": [
        "@tf.function\n",
        "def _predict_logit(self, input):\n",
        "    '''\n",
        "    self    is a LogisticRegression instance\n",
        "    input   is a matrix of size (NxF)\n",
        "\n",
        "    self._W is weigths matrix\n",
        "    self._b is bias vector\n",
        "    '''\n",
        "    if self._W is None:\n",
        "        self.build(input.shape[1])\n",
        "    \n",
        "    out = <YOUR CODE HERE>\n",
        "    return tf.squeeze(out)    # we'd like output to be one-dimentional vector"
      ],
      "execution_count": 0,
      "outputs": []
    },
    {
      "cell_type": "markdown",
      "metadata": {
        "id": "etp-uL8ZOE6E",
        "colab_type": "text"
      },
      "source": [
        "Now let's obtain probabilities from logits\n",
        "\n",
        "$$\n",
        "\\mathop{p}\\limits_{N\\text{x}1} = \\sigma(\\mathop{logit}\\limits_{N\\text{x}1})\n",
        "$$\n",
        "\n",
        "In tensorflow sigmoid function can be calculated by:\n",
        "```\n",
        "tf.nn.sigmoid(x) \n",
        "```"
      ]
    },
    {
      "cell_type": "code",
      "metadata": {
        "id": "ncoXJ8cdOFVO",
        "colab_type": "code",
        "colab": {}
      },
      "source": [
        "@tf.function\n",
        "def _call(self, input):\n",
        "    logits = <YOUR CODE HERE>\n",
        "    out = <YOUR CODE HERE>\n",
        "    return out"
      ],
      "execution_count": 0,
      "outputs": []
    },
    {
      "cell_type": "markdown",
      "metadata": {
        "id": "vsvUnkgaKXSN",
        "colab_type": "text"
      },
      "source": [
        "Predicted probablility is an indicator that output probability is above threshold of 0.5. However it could be clearly seen from sigmoid plot that same result could be achived by testing sigmoid input on above zero.\n",
        "$$\n",
        "\\hat{y} = [p>0.5] = [logit >0] \n",
        "$$"
      ]
    },
    {
      "cell_type": "code",
      "metadata": {
        "id": "F9D6V585KXta",
        "colab_type": "code",
        "colab": {}
      },
      "source": [
        "@tf.function\n",
        "def _predict(self, input):\n",
        "    logits =  self._predict_logit(input)\n",
        "    out = <YOUR CODE HERE>\n",
        "    return tf.cast(out, tf.int32) # we'd like predictions to be of integer type"
      ],
      "execution_count": 0,
      "outputs": []
    },
    {
      "cell_type": "markdown",
      "metadata": {
        "id": "e_uniGujG0BR",
        "colab_type": "text"
      },
      "source": [
        "Binary form of Cross Entropy is used for this problem.\n",
        "$$\n",
        "L = - \\sum_{i=1}^N y_i \\log(p_i)+ (1-y_i) \\log(1-p_i)\n",
        "$$\n",
        "For the reasons of numerical stability in actual implementation previous loss is replaced with more stable equivalent.\n",
        "$$\n",
        "L = \\sum_{i=1}^N \\max(logit_i,0) - y_ilogit_i + \\log(1+\\exp(-|logit_i|))\n",
        "$$\n",
        "In tensorflow this loss is represented by class *BinaryCrossentropy* with manually enabled *from_logits* option.\n",
        "\n",
        "```python\n",
        "tf.keras.losses.BinaryCrossentropy(from_logits=True)\n",
        "```"
      ]
    },
    {
      "cell_type": "code",
      "metadata": {
        "id": "U6tEhEdhMsB6",
        "colab_type": "code",
        "colab": {}
      },
      "source": [
        "LOSS_FUNCTION = <YOUR CODE HERE>\n",
        "\n",
        "@tf.function\n",
        "def _loss(self, input, labels):\n",
        "    logits = <YOUR CODE HERE>\n",
        "    out = LOSS_FUNCTION(labels,out)\n",
        "    return out"
      ],
      "execution_count": 0,
      "outputs": []
    },
    {
      "cell_type": "code",
      "metadata": {
        "id": "MdrLdC50NVJL",
        "colab_type": "code",
        "colab": {}
      },
      "source": [
        "class LogisticRegression(object):\n",
        "    def __init__(self, weigths_init=tf.keras.initializers.glorot_normal(seed=SEED), \n",
        "                        bias_init=tf.keras.initializers.constant(0.0)):\n",
        "        self.weigths_init = weigths_init\n",
        "        self.bias_init = bias_init\n",
        "\n",
        "        self._W = None\n",
        "        self._b = None\n",
        "\n",
        "    def build(self, num_features):\n",
        "        self.num_features = num_features\n",
        "        self._W = tf.Variable(self.weigths_init([num_features,1]),trainable=True)\n",
        "        self._b = tf.Variable(self.bias_init([1]),trainable=True)\n",
        "    \n",
        "    def predict(self, input):\n",
        "        return self._predict(input).numpy()\n",
        "\n",
        "    def loss(self, input, labels):\n",
        "        assert input.shape[0] == labels.shape[0]\n",
        "        return self._loss(input, labels).numpy()\n",
        "    \n",
        "    def train_step(self, input, labels, learning_rate):\n",
        "        return self._train_step(input, labels, learning_rate).numpy()\n",
        "    \n",
        "    def __call__(self, input):\n",
        "        return self._call(input).numpy()\n",
        "    \n",
        "    def get_variables(self):\n",
        "        return [self._W, self._b]\n",
        "    \n",
        "    @tf.function\n",
        "    def _train_step(self, input, labels, learning_rate):\n",
        "        with tf.GradientTape() as t:\n",
        "            current_loss = self._loss(input, labels)\n",
        "        \n",
        "        vars = self.get_variables()\n",
        "        grads = t.gradient(current_loss, vars)\n",
        "        \n",
        "        # Stochastic Gradient Descent\n",
        "        for v,g in zip(vars,grads):\n",
        "            v.assign_sub(learning_rate * g)\n",
        "        return current_loss\n",
        "    \n",
        "    ## == Functions to define == ##\n",
        "    def _predict_logit(self, input):\n",
        "        return _predict_logit(self,input)\n",
        "\n",
        "    def _predict(self, input):\n",
        "        return _predict(self, input)\n",
        "    \n",
        "    def _loss(self, input, labels):\n",
        "        return _loss(self, input, labels)\n",
        "    \n",
        "    def _call(self, input):\n",
        "        return _call(self, input)"
      ],
      "execution_count": 0,
      "outputs": []
    },
    {
      "cell_type": "markdown",
      "metadata": {
        "colab_type": "text",
        "id": "t8TVx6KlTtVv"
      },
      "source": [
        "## Metrics and utilities\n",
        "\n",
        "In this section:\n",
        "1. train misc functions\n",
        "1. observing metrics\n",
        "\n",
        "It could be very hard to perform one train step on the whole dataset because of memory capacity. \n",
        "Therefore we are using minibatch updates."
      ]
    },
    {
      "cell_type": "code",
      "metadata": {
        "colab_type": "code",
        "id": "ffQSeYqJb2D-",
        "colab": {}
      },
      "source": [
        "def build_batch_generator(X, y, batch_size):\n",
        "    num_batches = X.shape[0]//batch_size\n",
        "    idxs = np.arange(num_batches*batch_size).reshape((num_batches,batch_size))\n",
        "    \n",
        "    def generator():\n",
        "        for idx in idxs:\n",
        "            yield X[idx], y[idx]\n",
        "    \n",
        "    return generator, num_batches"
      ],
      "execution_count": 0,
      "outputs": []
    },
    {
      "cell_type": "code",
      "metadata": {
        "colab_type": "code",
        "id": "T-qeRO7Xensc",
        "colab": {}
      },
      "source": [
        "def build_shuffler():\n",
        "    random_state = np.random.RandomState(SEED)\n",
        "    \n",
        "    def shuffler(X, y):\n",
        "        idxs = np.arange(X.shape[0])\n",
        "        random_state.shuffle(idxs)\n",
        "        return X[idxs], y[idxs]\n",
        "    \n",
        "    return shuffler"
      ],
      "execution_count": 0,
      "outputs": []
    },
    {
      "cell_type": "code",
      "metadata": {
        "colab_type": "code",
        "id": "_4v2lCDXRSKv",
        "colab": {}
      },
      "source": [
        "def normalized_confusion_matrix(y_true, y_pred):\n",
        "    conf_mat = confusion_matrix(y_true, y_pred)\n",
        "    # confusion matrix is needed to be normalized \n",
        "    # to contain rates we would like to see \n",
        "    return conf_mat.astype(np.float32) / conf_mat.sum(axis=1)[:, None]"
      ],
      "execution_count": 0,
      "outputs": []
    },
    {
      "cell_type": "markdown",
      "metadata": {
        "colab_type": "text",
        "id": "tgjYUOX1Hsxg"
      },
      "source": [
        "Our primary metrics are:\n",
        "- Accuracy\n",
        "- AUC ROC score\n",
        "\n",
        "We also taking into consideration:\n",
        "- Precision\n",
        "- Recall\n",
        "- F1-score\n",
        "- Confusion Matrix\n",
        "\n",
        "---\n",
        "Would you like to know [more](https://en.wikipedia.org/wiki/Receiver_operating_characteristic)?"
      ]
    },
    {
      "cell_type": "code",
      "metadata": {
        "colab_type": "code",
        "id": "t3oWuQPBPVQq",
        "colab": {}
      },
      "source": [
        "def get_metrics(model, X, y, full_report=False):\n",
        "    y_hat = model.predict(X)\n",
        "    y_hat_probs = model(X)\n",
        "    accuracy = accuracy_score(y, y_hat)\n",
        "    auc_roc = roc_auc_score(y, y_hat_probs)\n",
        "    if full_report:\n",
        "        report = classification_report(y, y_hat, digits=2)\n",
        "        conf_mat = normalized_confusion_matrix(y, y_hat)\n",
        "        return accuracy, auc_roc, conf_mat, report\n",
        "    else:\n",
        "        return accuracy, auc_roc"
      ],
      "execution_count": 0,
      "outputs": []
    },
    {
      "cell_type": "markdown",
      "metadata": {
        "colab_type": "text",
        "id": "3zt9IwNaMi7-"
      },
      "source": [
        "## Training loop\n",
        "\n",
        "In this section:\n",
        "1. iteratively train model\n",
        "1. collectig metrics\n",
        "\n",
        "\n"
      ]
    },
    {
      "cell_type": "code",
      "metadata": {
        "colab_type": "code",
        "id": "GmWIZHLfaiMM",
        "colab": {}
      },
      "source": [
        "shuffler = build_shuffler()\n",
        "model = LogisticRegression()\n",
        "\n",
        "# we will collect metrics on each minibatch of each epoch\n",
        "# NOTE: we are collecting primary metrics only (Accuracy and AUC ROC score)\n",
        "train_accuracy_per_iteration = []\n",
        "train_auc_roc_per_iteration = []\n",
        "test_accuracy_per_iteration = []\n",
        "test_auc_roc_per_iteration = []\n",
        "\n",
        "learning_rate = LEARNING_RATE\n",
        "\n",
        "### SOME MAGICAL PREPARATION TO IMITATE KERAS OUTPUT ###\n",
        "### NOTHING TO BE SCARED OF ###\n",
        "### HONESTLY (TRUST ME!) ###\n",
        "progress_bar_str = \"Epoch {{:<{}}} : [ {{}}{{}} ] \".format(int(np.log10(EPOCH))+1)\n",
        "metrics_bar_str = \"train accuracy: {{:.4f}} \\t test accuracy {{:.4f}} \\t learning rate: {{:.{}}}\".format(\n",
        "                        -int(np.floor(np.log10(LEARNING_RATE*LEARNING_RATE_DECAY**(EPOCH))))+1)\n",
        "### END OF MAGIC HERE ###"
      ],
      "execution_count": 0,
      "outputs": []
    },
    {
      "cell_type": "code",
      "metadata": {
        "colab_type": "code",
        "id": "5sB2hfhNUw3P",
        "outputId": "40d88f61-0a18-4c0f-b793-1ffbbc19fae5",
        "colab": {
          "base_uri": "https://localhost:8080/",
          "height": 853
        }
      },
      "source": [
        "for i in range(EPOCH):\n",
        "    if SHUFFLE_BEFORE_EPOCH:\n",
        "        X,y = shuffler(X_train,y_train)\n",
        "    batch_gen, total_batches = build_batch_generator(X,y,BATCH_SIZE)\n",
        "    total_batches -= 1\n",
        "\n",
        "    for j, (batch_x, batch_y) in enumerate(batch_gen()):\n",
        "        # performing mini-batch update\n",
        "        model.train_step(batch_x, batch_y, learning_rate=0.01)\n",
        "\n",
        "        # collecting train metrics\n",
        "        accuracy, auc_roc = get_metrics(model, batch_x, batch_y)\n",
        "        train_accuracy_per_iteration.append(accuracy)\n",
        "        train_auc_roc_per_iteration.append(auc_roc)\n",
        "\n",
        "\n",
        "\n",
        "        # collecting test metrics\n",
        "        ### START YOUR CODE HERE ###\n",
        "\n",
        "        # test_accuracy_per_iteration\n",
        "        # test_auc_roc_per_iteration\n",
        "\n",
        "        ### END OF YOUR CODE ###\n",
        "\n",
        "\n",
        "\n",
        "        ### YET ANOTHER PORTION OF MAGIC ###\n",
        "        print(\"\\r\", end=\"\")\n",
        "        points = int(j/total_batches*20)\n",
        "        print(progress_bar_str.format(i+1,points*\"+\",(20-points)*\"-\"), end=\"\")\n",
        "        print(metrics_bar_str.format(train_accuracy_per_iteration[-1],accuracy,learning_rate), end=\"\")\n",
        "        ### END OF MAGIC HERE ###\n",
        "\n",
        "    learning_rate *= LEARNING_RATE_DECAY\n",
        "    print()"
      ],
      "execution_count": 21,
      "outputs": [
        {
          "output_type": "stream",
          "text": [
            "WARNING:tensorflow:From /tensorflow-2.0.0/python3.6/tensorflow_core/python/ops/resource_variable_ops.py:1781: calling BaseResourceVariable.__init__ (from tensorflow.python.ops.resource_variable_ops) with constraint is deprecated and will be removed in a future version.\n",
            "Instructions for updating:\n",
            "If using Keras pass *_constraint arguments to layers.\n",
            "Epoch 1  : [ ++++++++++++++++++++ ] train accuracy: 0.7169 \t test accuracy 0.7169 \t learning rate: 0.005\n",
            "Epoch 2  : [ ++++++++++++++++++++ ] train accuracy: 0.7457 \t test accuracy 0.7457 \t learning rate: 0.00475\n",
            "Epoch 3  : [ ++++++++++++++++++++ ] train accuracy: 0.7611 \t test accuracy 0.7611 \t learning rate: 0.0045125\n",
            "Epoch 4  : [ ++++++++++++++++++++ ] train accuracy: 0.7718 \t test accuracy 0.7718 \t learning rate: 0.0042869\n",
            "Epoch 5  : [ ++++++++++++++++++++ ] train accuracy: 0.7803 \t test accuracy 0.7803 \t learning rate: 0.0040725\n",
            "Epoch 6  : [ ++++++++++++++++++++ ] train accuracy: 0.7891 \t test accuracy 0.7891 \t learning rate: 0.0038689\n",
            "Epoch 7  : [ ++++++++++++++++++++ ] train accuracy: 0.7948 \t test accuracy 0.7948 \t learning rate: 0.0036755\n",
            "Epoch 8  : [ ++++++++++++++++++++ ] train accuracy: 0.7990 \t test accuracy 0.7990 \t learning rate: 0.0034917\n",
            "Epoch 9  : [ ++++++++++++++++++++ ] train accuracy: 0.8020 \t test accuracy 0.8020 \t learning rate: 0.0033171\n",
            "Epoch 10 : [ ++++++++++++++++++++ ] train accuracy: 0.8053 \t test accuracy 0.8053 \t learning rate: 0.0031512\n",
            "Epoch 11 : [ ++++++++++++++++++++ ] train accuracy: 0.8075 \t test accuracy 0.8075 \t learning rate: 0.0029937\n",
            "Epoch 12 : [ ++++++++++++++++++++ ] train accuracy: 0.8118 \t test accuracy 0.8118 \t learning rate: 0.002844\n",
            "Epoch 13 : [ ++++++++++++++++++++ ] train accuracy: 0.8140 \t test accuracy 0.8140 \t learning rate: 0.0027018\n",
            "Epoch 14 : [ ++++++++++++++++++++ ] train accuracy: 0.8154 \t test accuracy 0.8154 \t learning rate: 0.0025667\n",
            "Epoch 15 : [ ++++++++++++++++++++ ] train accuracy: 0.8171 \t test accuracy 0.8171 \t learning rate: 0.0024384\n",
            "Epoch 16 : [ ++++++++++++++++++++ ] train accuracy: 0.8193 \t test accuracy 0.8193 \t learning rate: 0.0023165\n",
            "Epoch 17 : [ ++++++++++++++++++++ ] train accuracy: 0.8200 \t test accuracy 0.8200 \t learning rate: 0.0022006\n",
            "Epoch 18 : [ ++++++++++++++++++++ ] train accuracy: 0.8209 \t test accuracy 0.8209 \t learning rate: 0.0020906\n",
            "Epoch 19 : [ ++++++++++++++++++++ ] train accuracy: 0.8212 \t test accuracy 0.8212 \t learning rate: 0.0019861\n",
            "Epoch 20 : [ ++++++++++++++++++++ ] train accuracy: 0.8225 \t test accuracy 0.8225 \t learning rate: 0.0018868\n",
            "Epoch 21 : [ ++++++++++++++++++++ ] train accuracy: 0.8224 \t test accuracy 0.8224 \t learning rate: 0.0017924\n",
            "Epoch 22 : [ ++++++++++++++++++++ ] train accuracy: 0.8238 \t test accuracy 0.8238 \t learning rate: 0.0017028\n",
            "Epoch 23 : [ ++++++++++++++++++++ ] train accuracy: 0.8245 \t test accuracy 0.8245 \t learning rate: 0.0016177\n",
            "Epoch 24 : [ ++++++++++++++++++++ ] train accuracy: 0.8255 \t test accuracy 0.8255 \t learning rate: 0.0015368\n",
            "Epoch 25 : [ ++++++++++++++++++++ ] train accuracy: 0.8268 \t test accuracy 0.8268 \t learning rate: 0.0014599\n",
            "Epoch 26 : [ ++++++++++++++++++++ ] train accuracy: 0.8272 \t test accuracy 0.8272 \t learning rate: 0.0013869\n",
            "Epoch 27 : [ ++++++++++++++++++++ ] train accuracy: 0.8276 \t test accuracy 0.8276 \t learning rate: 0.0013176\n",
            "Epoch 28 : [ ++++++++++++++++++++ ] train accuracy: 0.8287 \t test accuracy 0.8287 \t learning rate: 0.0012517\n",
            "Epoch 29 : [ ++++++++++++++++++++ ] train accuracy: 0.8290 \t test accuracy 0.8290 \t learning rate: 0.0011891\n",
            "Epoch 30 : [ ++++++++++++++++++++ ] train accuracy: 0.8297 \t test accuracy 0.8297 \t learning rate: 0.0011297\n",
            "Epoch 31 : [ ++++++++++++++++++++ ] train accuracy: 0.8306 \t test accuracy 0.8306 \t learning rate: 0.0010732\n",
            "Epoch 32 : [ ++++++++++++++++++++ ] train accuracy: 0.8312 \t test accuracy 0.8312 \t learning rate: 0.0010195\n",
            "Epoch 33 : [ ++++++++++++++++++++ ] train accuracy: 0.8316 \t test accuracy 0.8316 \t learning rate: 0.00096856\n",
            "Epoch 34 : [ ++++++++++++++++++++ ] train accuracy: 0.8321 \t test accuracy 0.8321 \t learning rate: 0.00092013\n",
            "Epoch 35 : [ ++++++++++++++++++++ ] train accuracy: 0.8323 \t test accuracy 0.8323 \t learning rate: 0.00087412\n",
            "Epoch 36 : [ ++++++++++++++++++++ ] train accuracy: 0.8329 \t test accuracy 0.8329 \t learning rate: 0.00083042\n",
            "Epoch 37 : [ ++++++++++++++++++++ ] train accuracy: 0.8333 \t test accuracy 0.8333 \t learning rate: 0.0007889\n",
            "Epoch 38 : [ ++++++++++++++++++++ ] train accuracy: 0.8336 \t test accuracy 0.8336 \t learning rate: 0.00074945\n",
            "Epoch 39 : [ ++++++++++++++++++++ ] train accuracy: 0.8340 \t test accuracy 0.8340 \t learning rate: 0.00071198\n",
            "Epoch 40 : [ ++++++++++++++++++++ ] train accuracy: 0.8344 \t test accuracy 0.8344 \t learning rate: 0.00067638\n",
            "Epoch 41 : [ ++++++++++++++++++++ ] train accuracy: 0.8347 \t test accuracy 0.8347 \t learning rate: 0.00064256\n",
            "Epoch 42 : [ ++++++++++++++++++++ ] train accuracy: 0.8353 \t test accuracy 0.8353 \t learning rate: 0.00061043\n",
            "Epoch 43 : [ ++++++++++++++++++++ ] train accuracy: 0.8351 \t test accuracy 0.8351 \t learning rate: 0.00057991\n",
            "Epoch 44 : [ ++++++++++++++++++++ ] train accuracy: 0.8355 \t test accuracy 0.8355 \t learning rate: 0.00055092\n",
            "Epoch 45 : [ ++++++++++++++++++++ ] train accuracy: 0.8361 \t test accuracy 0.8361 \t learning rate: 0.00052337\n"
          ],
          "name": "stdout"
        }
      ]
    },
    {
      "cell_type": "markdown",
      "metadata": {
        "colab_type": "text",
        "id": "hsapnBNeQDab"
      },
      "source": [
        "## Results\n",
        "\n",
        "In this section:\n",
        "1. observing learning curves\n",
        "1. collecting **all** the metrics of trained model\n",
        "1. plotting ROC curve"
      ]
    },
    {
      "cell_type": "code",
      "metadata": {
        "colab_type": "code",
        "id": "CD3Blx5XkY-b",
        "outputId": "8b232d2e-d16c-4315-85a2-22efd62a0249",
        "colab": {
          "base_uri": "https://localhost:8080/",
          "height": 312
        }
      },
      "source": [
        "pyplot.plot(train_accuracy_per_iteration,\"b-\", label=\"Train\")\n",
        "pyplot.plot(test_accuracy_per_iteration,\"r--\", label=\"Test\")\n",
        "pyplot.title(\"Accuracy per iteration\")\n",
        "pyplot.xlabel(\"Iteration\")\n",
        "pyplot.ylabel(\"Accuracy\")\n",
        "pyplot.legend(loc=\"best\")"
      ],
      "execution_count": 22,
      "outputs": [
        {
          "output_type": "execute_result",
          "data": {
            "text/plain": [
              "<matplotlib.legend.Legend at 0x7f72419dd0f0>"
            ]
          },
          "metadata": {
            "tags": []
          },
          "execution_count": 22
        },
        {
          "output_type": "display_data",
          "data": {
            "image/png": "[encoded data removed]",
            "text/plain": [
              "<Figure size 432x288 with 1 Axes>"
            ]
          },
          "metadata": {
            "tags": []
          }
        }
      ]
    },
    {
      "cell_type": "code",
      "metadata": {
        "colab_type": "code",
        "id": "gM92f38Jlqob",
        "outputId": "4b54ea72-e0a2-4587-8eff-1734bc1fc787",
        "colab": {
          "base_uri": "https://localhost:8080/",
          "height": 295
        }
      },
      "source": [
        "pyplot.plot(train_auc_roc_per_iteration,\"b-\", label=\"Train\")\n",
        "pyplot.plot(test_auc_roc_per_iteration,\"r--\", label=\"Test\")\n",
        "pyplot.title(\"AUC ROC per iteration\")\n",
        "pyplot.xlabel(\"Iteration\")\n",
        "pyplot.ylabel(\"AUC ROC score\")\n",
        "pyplot.legend(loc=\"best\");"
      ],
      "execution_count": 23,
      "outputs": [
        {
          "output_type": "display_data",
          "data": {
            "image/png": "[encoded data removed]",
            "text/plain": [
              "<Figure size 432x288 with 1 Axes>"
            ]
          },
          "metadata": {
            "tags": []
          }
        }
      ]
    },
    {
      "cell_type": "code",
      "metadata": {
        "colab_type": "code",
        "id": "UNow1XqvjH34",
        "outputId": "152d2187-457c-464f-cfe9-c5bba1b9a9ea",
        "colab": {
          "base_uri": "https://localhost:8080/",
          "height": 272
        }
      },
      "source": [
        "accuracy, auc_roc, conf_mat, report = get_metrics(model, X_train, y_train,full_report=True)\n",
        "print(\"Training confusion matrix:\\n\", conf_mat)\n",
        "print(\"Training accuracy: \", accuracy)\n",
        "print(\"Training AUC: \", auc_roc)\n",
        "print(\"Training classification report: \\n\", report)"
      ],
      "execution_count": 24,
      "outputs": [
        {
          "output_type": "stream",
          "text": [
            "Training confusion matrix:\n",
            " [[0.81870179 0.18129821]\n",
            " [0.15950211 0.84049789]]\n",
            "Training accuracy:  0.8293833333333334\n",
            "Training AUC:  0.9006970622307304\n",
            "Training classification report: \n",
            "               precision    recall  f1-score   support\n",
            "\n",
            "         0.0       0.84      0.82      0.83     30596\n",
            "         1.0       0.82      0.84      0.83     29404\n",
            "\n",
            "    accuracy                           0.83     60000\n",
            "   macro avg       0.83      0.83      0.83     60000\n",
            "weighted avg       0.83      0.83      0.83     60000\n",
            "\n"
          ],
          "name": "stdout"
        }
      ]
    },
    {
      "cell_type": "code",
      "metadata": {
        "colab_type": "code",
        "id": "C4aBBJ_4kBvI",
        "outputId": "aef0dfac-8e43-4605-ce2b-de2944b77d8e",
        "colab": {
          "base_uri": "https://localhost:8080/",
          "height": 272
        }
      },
      "source": [
        "# metrics for test set\n",
        "accuracy, auc_roc, conf_mat, report = get_metrics(model, X_test, y_test,full_report=True)\n",
        "print(\"Testing confusion matrix:\\n\", conf_mat)\n",
        "print(\"Testing accuracy: \", accuracy)\n",
        "print(\"Testing AUC: \", auc_roc)\n",
        "print(\"Testing classification report: \\n\", report)"
      ],
      "execution_count": 27,
      "outputs": [
        {
          "output_type": "stream",
          "text": [
            "Testing confusion matrix:\n",
            " [[0.81416618 0.18583382]\n",
            " [0.14071179 0.85928821]]\n",
            "Testing accuracy:  0.8361\n",
            "Testing AUC:  0.9101481989340642\n",
            "Testing classification report: \n",
            "               precision    recall  f1-score   support\n",
            "\n",
            "         0.0       0.86      0.81      0.84      5139\n",
            "         1.0       0.81      0.86      0.84      4861\n",
            "\n",
            "    accuracy                           0.84     10000\n",
            "   macro avg       0.84      0.84      0.84     10000\n",
            "weighted avg       0.84      0.84      0.84     10000\n",
            "\n"
          ],
          "name": "stdout"
        }
      ]
    },
    {
      "cell_type": "code",
      "metadata": {
        "colab_type": "code",
        "id": "_lCkQISbkHtn",
        "outputId": "26cc76c9-e183-4c43-a50f-31348ee173ec",
        "colab": {
          "base_uri": "https://localhost:8080/",
          "height": 295
        }
      },
      "source": [
        "fpr, tpr, thresholds = roc_curve(y_test, model(X_test), drop_intermediate=True)\n",
        "\n",
        "pyplot.plot(fpr, tpr, [0,1], [0, 1])\n",
        "pyplot.title(\"ROC curve\")\n",
        "pyplot.xlabel(\"False positive rate\")\n",
        "pyplot.ylabel(\"True positive rate\");"
      ],
      "execution_count": 28,
      "outputs": [
        {
          "output_type": "display_data",
          "data": {
            "image/png": "[encoded data removed]",
            "text/plain": [
              "<Figure size 432x288 with 1 Axes>"
            ]
          },
          "metadata": {
            "tags": []
          }
        }
      ]
    },
    {
      "cell_type": "markdown",
      "metadata": {
        "colab_type": "text",
        "id": "Vm5zXELNVYUA"
      },
      "source": [
        "<p align=\"center\">\n",
        "  <b>THE END OF PART III</b>\n",
        "</p>\n",
        "\n"
      ]
    },
    {
      "cell_type": "code",
      "metadata": {
        "colab_type": "code",
        "id": "jo0TWQ1YVx49",
        "colab": {}
      },
      "source": [
        ""
      ],
      "execution_count": 0,
      "outputs": []
    }
  ]
}